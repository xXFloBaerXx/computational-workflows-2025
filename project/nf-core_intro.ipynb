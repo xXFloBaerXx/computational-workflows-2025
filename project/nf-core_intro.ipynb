{
 "cells": [
  {
   "cell_type": "markdown",
   "metadata": {},
   "source": [
    "# nf-core Pipelines\n",
    "\n",
    "Your task over the next couple of days will be creating your own little RNA-seq pipeline using the nf-core framework and making use of nf-core modules."
   ]
  },
  {
   "cell_type": "markdown",
   "metadata": {},
   "source": [
    "We suggest you code a basic transcriptomic pipeline that does the following: \n",
    "\n",
    "1. Reading in a samplesheet (e.g. python script called in your own process using a docker container - can use seqera)\n",
    "2. Fastqc\n",
    "3. Trimming\n",
    "4. Aligning\n",
    "5. Optional: Markduplicates"
   ]
  },
  {
   "cell_type": "markdown",
   "metadata": {},
   "source": [
    "Start by downloading some testing data. Either by using nf-core/fetchngs or you can see if you find a suitable test dataset here: https://github.com/nf-core/test-datasets/tree/rnaseq/."
   ]
  },
  {
   "cell_type": "markdown",
   "metadata": {},
   "source": [
    "Grading will focus on: \n",
    "1. Clear and readable code\n",
    "2. Reproducibility (give out the version of each tool (txt file is sufficient))\n",
    "3. Modularibility"
   ]
  },
  {
   "cell_type": "markdown",
   "metadata": {},
   "source": [
    "As a start, you can but dont have to have a look at the nf-core tools python module. The commands in this package will allow you to : \n",
    "- install a blank template of a pipeline with explicit TODOs for you to follow\n",
    "- install nf-core modules"
   ]
  },
  {
   "cell_type": "markdown",
   "metadata": {},
   "source": [
    "Some tips:\n",
    "1. Check out the rnaseq GitHub repository to see how they are doing things. \n",
    "2. Feel free to make use of nf-core modules ([www.nf.co.re/modules](https://nf-co.re/modules)) "
   ]
  },
  {
   "cell_type": "markdown",
   "metadata": {},
   "source": []
  },
  {
   "cell_type": "markdown",
   "metadata": {},
   "source": [
    " "
   ]
  }
 ],
 "metadata": {
  "language_info": {
   "name": "python"
  }
 },
 "nbformat": 4,
 "nbformat_minor": 2
}
