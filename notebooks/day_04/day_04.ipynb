{
 "cells": [
  {
   "cell_type": "markdown",
   "metadata": {},
   "source": [
    "# Day 6 - Nextflow Basics: Introduction to channels and operators"
   ]
  },
  {
   "cell_type": "markdown",
   "metadata": {},
   "source": [
    "Today, we will begin exploring Nextflow, the programming language that powers the advanced nf-core pipelines you worked with last week. Your task is to dive into the core concepts and syntax of Nextflow, understanding how this language enables the development of scalable and reproducible workflows.\n",
    "\n",
    "Nextflow works quite differently from traditional programming languages like Python or Java that you may already be familiar with. To get started, it is essential to understand the foundational concepts that set Nextflow apart."
   ]
  },
  {
   "cell_type": "markdown",
   "metadata": {},
   "source": [
    "### 1. Describe the concept of Workflows, Processes and Channels we deal with in Nextflow"
   ]
  },
  {
   "cell_type": "markdown",
   "metadata": {},
   "source": [
    "Workflows:\n",
    "\n",
    "\n",
    "\n",
    "\n",
    "\n",
    "Processes:\n",
    "\n",
    "\n",
    "\n",
    "\n",
    "\n",
    "\n",
    "Channels:"
   ]
  },
  {
   "cell_type": "markdown",
   "metadata": {},
   "source": [
    "## Introduction to channels\n",
    "\n",
    "Please refer to the file  $\\texttt{channels\\_intro.nf}$ for the next exercises. Then run the code with the respective flag here below. "
   ]
  },
  {
   "cell_type": "code",
   "execution_count": null,
   "metadata": {},
   "outputs": [],
   "source": [
    "# Task 1 - Create a channel that enumerates the numbers from 1 to 10\n",
    "!nextflow run channels_intro.nf --step 1"
   ]
  },
  {
   "cell_type": "code",
   "execution_count": null,
   "metadata": {},
   "outputs": [],
   "source": [
    "# Task 2 - Create a channel that gives out the entire alphabet\n",
    "!nextflow run channels_intro.nf --step 2"
   ]
  },
  {
   "cell_type": "code",
   "execution_count": null,
   "metadata": {},
   "outputs": [],
   "source": [
    "# Task 3 - Create a channel that includes all files in the \"files_dir\" directory\n",
    "!nextflow run channels_intro.nf --step 3"
   ]
  },
  {
   "cell_type": "code",
   "execution_count": null,
   "metadata": {},
   "outputs": [],
   "source": [
    "# Task 4 - Create a channel that includes all TXT files in the \"files_dir\" directory\n",
    "!nextflow run channels_intro.nf --step 4"
   ]
  },
  {
   "cell_type": "code",
   "execution_count": null,
   "metadata": {},
   "outputs": [],
   "source": [
    "# Task 5 - Create a channel that includes the files \"fastq_1.fq\" and \"fastq_2.fq\" in the \"files_dir\" directory\n",
    "!nextflow run channels_intro.nf --step 5"
   ]
  },
  {
   "cell_type": "code",
   "execution_count": null,
   "metadata": {},
   "outputs": [],
   "source": [
    "# Task 6 - go back to the time when you included all files. Are you sure that really ALL files are included? If not, how can you include them?\n",
    "!nextflow run channels_intro.nf --step 6"
   ]
  },
  {
   "cell_type": "code",
   "execution_count": null,
   "metadata": {},
   "outputs": [],
   "source": [
    "# Task 7 - get all filepairs in the \"files_dir\" directory\n",
    "!nextflow run channels_intro.nf --step 7"
   ]
  },
  {
   "cell_type": "markdown",
   "metadata": {},
   "source": [
    "## Now that you have a solid understanding of the basic concepts of channels in Nextflow, it’s time to experiment and see how they work in practice."
   ]
  },
  {
   "cell_type": "markdown",
   "metadata": {},
   "source": [
    "To do so, Nextflow has the concept of Operators to give and pass information inbetween channels.\n",
    "\n",
    "Please answer the questions in $\\texttt{basic\\_channel\\_operations.nf}$ and run the code here. "
   ]
  },
  {
   "cell_type": "code",
   "execution_count": null,
   "metadata": {},
   "outputs": [],
   "source": [
    "# Task 1 - Extract the first item from the channel\n",
    "!nextflow run basic_channel_operations.nf --step 1"
   ]
  },
  {
   "cell_type": "code",
   "execution_count": null,
   "metadata": {},
   "outputs": [],
   "source": [
    "# Task 2 - Extract the last item from the channel\n",
    "!nextflow run basic_channel_operations.nf --step 2"
   ]
  },
  {
   "cell_type": "code",
   "execution_count": null,
   "metadata": {},
   "outputs": [],
   "source": [
    "# Task 3 - Use an operator to extract the first two items from the channel\n",
    "!nextflow run basic_channel_operations.nf --step 3"
   ]
  },
  {
   "cell_type": "code",
   "execution_count": null,
   "metadata": {},
   "outputs": [],
   "source": [
    "# Task 4 - Return the squared values of the channel\n",
    "!nextflow run basic_channel_operations.nf --step 4"
   ]
  },
  {
   "cell_type": "code",
   "execution_count": null,
   "metadata": {},
   "outputs": [],
   "source": [
    "# Task 5 - Remember the previous task where you squared the values of the channel. Now, extract the first two items from the squared channel\n",
    "!nextflow run basic_channel_operations.nf --step 5"
   ]
  },
  {
   "cell_type": "code",
   "execution_count": null,
   "metadata": {},
   "outputs": [],
   "source": [
    "# Task 6 - Remember when you used bash to reverse the output? Try to use map and Groovy to reverse the output\n",
    "!nextflow run basic_channel_operations.nf --step 6"
   ]
  },
  {
   "cell_type": "code",
   "execution_count": null,
   "metadata": {},
   "outputs": [],
   "source": [
    "# Task 7 - Use fromPath to include all fastq files in the \"files_dir\" directory, then use map to return a pair containing the file name and the file path (Hint: include groovy code)\n",
    "!nextflow run basic_channel_operations.nf --step 7"
   ]
  },
  {
   "cell_type": "code",
   "execution_count": null,
   "metadata": {},
   "outputs": [],
   "source": [
    "# Task 8 - Combine the items from the two channels into a single channel\n",
    "!nextflow run basic_channel_operations.nf --step 8"
   ]
  },
  {
   "cell_type": "code",
   "execution_count": null,
   "metadata": {},
   "outputs": [],
   "source": [
    "# Task 9 - Flatten the list in the channel\n",
    "!nextflow run basic_channel_operations.nf --step 9"
   ]
  },
  {
   "cell_type": "code",
   "execution_count": null,
   "metadata": {},
   "outputs": [],
   "source": [
    "# Task 10 - Collect the items of a channel into a list. What kind of channel is the output channel?\n",
    "!nextflow run basic_channel_operations.nf --step 10"
   ]
  },
  {
   "cell_type": "markdown",
   "metadata": {},
   "source": [
    "What kind of channel is the output channel?"
   ]
  },
  {
   "cell_type": "code",
   "execution_count": null,
   "metadata": {},
   "outputs": [],
   "source": [
    "# Task 11 -  From the input channel, create lists where each first item in the list of lists is the first item in the output channel, followed by a list of all the items its paired with\n",
    "!nextflow run basic_channel_operations.nf --step 11"
   ]
  },
  {
   "cell_type": "code",
   "execution_count": null,
   "metadata": {},
   "outputs": [],
   "source": [
    "# Task 12 - Create a channel that joins the input to the output channel. What do you notice?\n",
    "!nextflow run basic_channel_operations.nf --step 12"
   ]
  },
  {
   "cell_type": "markdown",
   "metadata": {},
   "source": [
    "Task 12 - What do you notice compared to Task 11?"
   ]
  },
  {
   "cell_type": "code",
   "execution_count": null,
   "metadata": {},
   "outputs": [],
   "source": [
    "# Task 13 - Split the input channel into two channels, one of all the even numbers and the other of all the odd numbers.\n",
    "#           Write them to stdout including information about which is which\n",
    "!nextflow run basic_channel_operations.nf --step 13 -dump-channels"
   ]
  },
  {
   "cell_type": "code",
   "execution_count": null,
   "metadata": {},
   "outputs": [],
   "source": [
    "# Task 14 - Nextflow has the concept of maps. Write the names in the maps in this channel to a file called \"names.txt\". Each name should be on a new line. \n",
    "#           Store the file in the \"results\" directory under the name \"names.txt\"\n",
    "\n",
    "!nextflow run basic_channel_operations.nf --step 14\n",
    "\n",
    "!cat results/names.txt\n"
   ]
  },
  {
   "cell_type": "markdown",
   "metadata": {},
   "source": [
    "## Now that we learned about Channels and Operators to deal with them, let's focus on Processes that make use of these channels."
   ]
  },
  {
   "cell_type": "markdown",
   "metadata": {},
   "source": [
    "Please answer the questions in $\\texttt{basics\\_processes.nf}$ and run the code here. "
   ]
  },
  {
   "cell_type": "code",
   "execution_count": null,
   "metadata": {},
   "outputs": [],
   "source": [
    "# Task 1 - create a process that says Hello World! (add debug true to the process right after initializing to be sable to print the output to the console)\n",
    "!nextflow run basics_processes.nf --step 1"
   ]
  },
  {
   "cell_type": "code",
   "execution_count": null,
   "metadata": {},
   "outputs": [],
   "source": [
    "# Task 2 - create a process that says Hello World! using Python\n",
    "!nextflow run basics_processes.nf --step 2"
   ]
  },
  {
   "cell_type": "code",
   "execution_count": null,
   "metadata": {},
   "outputs": [],
   "source": [
    "# Task 3 - create a process that reads in the string \"Hello world!\" from a channel and write it to command line\n",
    "!nextflow run basics_processes.nf --step 3"
   ]
  },
  {
   "cell_type": "code",
   "execution_count": null,
   "metadata": {},
   "outputs": [],
   "source": [
    "# Task 4 - create a process that reads in the string \"Hello world!\" from a channel and write it to a file. \n",
    "!nextflow run basics_processes.nf --step 4"
   ]
  },
  {
   "cell_type": "markdown",
   "metadata": {},
   "source": [
    "It might be that you created the file but it doesnt appear in the directory. Use the work folder and the output on the command line to find the file."
   ]
  },
  {
   "cell_type": "code",
   "execution_count": null,
   "metadata": {},
   "outputs": [],
   "source": [
    "# Task 5 - create a process that reads in a string and converts it to uppercase and saves it to a file as output. View the path to the file in the console\n",
    "!nextflow run basics_processes.nf --step 5"
   ]
  },
  {
   "cell_type": "code",
   "execution_count": null,
   "metadata": {},
   "outputs": [],
   "source": [
    "# Task 6 - add another process that reads in the resulting file from UPPERCASE and print the content to the console (debug true).\n",
    "!nextflow run basics_processes.nf --step 6"
   ]
  },
  {
   "cell_type": "markdown",
   "metadata": {},
   "source": [
    "Comared to all the other runs. What changed in the output here and why?"
   ]
  },
  {
   "cell_type": "code",
   "execution_count": null,
   "metadata": {},
   "outputs": [],
   "source": [
    "# Task 7 - based on the paramater \"zip\" (see at the head of the file), create a process that zips the file created in the UPPERCASE process either in \"zip\", \"gzip\" OR \"bzip2\" format.\n",
    "#          Print out the path to the zipped file in the console\n",
    "!nextflow run basics_processes.nf --step 7"
   ]
  },
  {
   "cell_type": "code",
   "execution_count": null,
   "metadata": {},
   "outputs": [],
   "source": [
    "# Task 8 - Create a process that zips the file created in the UPPERCASE process in \"zip\", \"gzip\" AND \"bzip2\" format. Print out the paths to the zipped files in the console\n",
    "!nextflow run basics_processes.nf --step 8"
   ]
  },
  {
   "cell_type": "code",
   "execution_count": null,
   "metadata": {},
   "outputs": [],
   "source": [
    " # Task 9 - Create a process that reads in a list of names and titles from a channel and writes them to a file.\n",
    "#           Store the file in the \"results\" directory under the name \"names.tsv\"\n",
    "!nextflow run basics_processes.nf --step 9"
   ]
  },
  {
   "cell_type": "code",
   "execution_count": null,
   "metadata": {},
   "outputs": [],
   "source": [
    "import pandas as pd\n",
    "\n",
    "df = pd.read_csv(\"results/names.tsv\", sep=\"\\t\")\n",
    "df"
   ]
  },
  {
   "cell_type": "markdown",
   "metadata": {},
   "source": [
    "## Now, let's try some more advanced Operators"
   ]
  },
  {
   "cell_type": "markdown",
   "metadata": {},
   "source": [
    "Please answer the questions in $\\texttt{advanced\\_channel\\_operations.nf}$ and run the code here. "
   ]
  },
  {
   "cell_type": "markdown",
   "metadata": {},
   "source": [
    "To come closer to actual pipelines, we introduce the concept of \"meta-maps\" which you can imagine as dictionaries that are passed with data via channels containing crucial metadata on the sample. \n",
    "\n",
    "Also, we will come back to samplesheets which you should remember from last week."
   ]
  },
  {
   "cell_type": "code",
   "execution_count": null,
   "metadata": {},
   "outputs": [],
   "source": [
    "# Task 1 - Read in the samplesheet.\n",
    "\n",
    "!nextflow run advanced_channel_operations.nf --step 1"
   ]
  },
  {
   "cell_type": "code",
   "execution_count": null,
   "metadata": {},
   "outputs": [],
   "source": [
    "# Task 2 - Read in the samplesheet and create a meta-map with all metadata and another list with the filenames ([[metadata_1 : metadata_1, ...], [fastq_1, fastq_2]]).\n",
    "#          Set the output to a new channel \"in_ch\" and view the channel. YOU WILL NEED TO COPY AND PASTE THIS CODE INTO SOME OF THE FOLLOWING TASKS (sorry for that).\n",
    "\n",
    "!nextflow run advanced_channel_operations.nf --step 2"
   ]
  },
  {
   "cell_type": "code",
   "execution_count": null,
   "metadata": {},
   "outputs": [],
   "source": [
    "# Task 3 - Now we assume that we want to handle different \"strandedness\" values differently. \n",
    "#          Split the channel into the right amount of channels and write them all to stdout so that we can understand which is which.\n",
    "\n",
    "!nextflow run advanced_channel_operations.nf --step 3 -dump-channels"
   ]
  },
  {
   "cell_type": "code",
   "execution_count": null,
   "metadata": {},
   "outputs": [],
   "source": [
    "# Task 4 - Group together all files with the same sample-id and strandedness value.\n",
    "\n",
    "!nextflow run advanced_channel_operations.nf --step 4"
   ]
  },
  {
   "cell_type": "markdown",
   "metadata": {},
   "source": [
    "## It's finally time to link processes and channels with each other"
   ]
  },
  {
   "cell_type": "markdown",
   "metadata": {},
   "source": [
    "Please go to the file $\\texttt{link\\_p\\_c.nf}$"
   ]
  },
  {
   "cell_type": "code",
   "execution_count": null,
   "metadata": {},
   "outputs": [],
   "source": [
    "!nextflow run link_p_c.nf"
   ]
  },
  {
   "cell_type": "markdown",
   "metadata": {},
   "source": [
    "### Give a list with the paths to the chunk files"
   ]
  },
  {
   "cell_type": "code",
   "execution_count": null,
   "metadata": {},
   "outputs": [],
   "source": []
  },
  {
   "cell_type": "markdown",
   "metadata": {},
   "source": [
    "### Why was CONVERTTOUPPER run so often?"
   ]
  },
  {
   "cell_type": "code",
   "execution_count": null,
   "metadata": {},
   "outputs": [],
   "source": []
  },
  {
   "cell_type": "code",
   "execution_count": null,
   "metadata": {},
   "outputs": [],
   "source": []
  },
  {
   "cell_type": "code",
   "execution_count": null,
   "metadata": {},
   "outputs": [],
   "source": []
  },
  {
   "cell_type": "code",
   "execution_count": null,
   "metadata": {},
   "outputs": [],
   "source": []
  },
  {
   "cell_type": "code",
   "execution_count": null,
   "metadata": {},
   "outputs": [],
   "source": []
  },
  {
   "cell_type": "code",
   "execution_count": null,
   "metadata": {},
   "outputs": [],
   "source": []
  },
  {
   "cell_type": "code",
   "execution_count": null,
   "metadata": {},
   "outputs": [],
   "source": []
  },
  {
   "cell_type": "code",
   "execution_count": null,
   "metadata": {},
   "outputs": [],
   "source": []
  },
  {
   "cell_type": "code",
   "execution_count": null,
   "metadata": {},
   "outputs": [],
   "source": []
  },
  {
   "cell_type": "code",
   "execution_count": null,
   "metadata": {},
   "outputs": [],
   "source": []
  },
  {
   "cell_type": "code",
   "execution_count": null,
   "metadata": {},
   "outputs": [],
   "source": []
  },
  {
   "cell_type": "code",
   "execution_count": null,
   "metadata": {},
   "outputs": [],
   "source": []
  }
 ],
 "metadata": {
  "kernelspec": {
   "display_name": "work",
   "language": "python",
   "name": "python3"
  },
  "language_info": {
   "codemirror_mode": {
    "name": "ipython",
    "version": 3
   },
   "file_extension": ".py",
   "mimetype": "text/x-python",
   "name": "python",
   "nbconvert_exporter": "python",
   "pygments_lexer": "ipython3",
   "version": "3.10.13"
  }
 },
 "nbformat": 4,
 "nbformat_minor": 2
}
